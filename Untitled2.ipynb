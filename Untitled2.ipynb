{
  "nbformat": 4,
  "nbformat_minor": 0,
  "metadata": {
    "colab": {
      "name": "Untitled2.ipynb",
      "provenance": [],
      "collapsed_sections": [],
      "authorship_tag": "ABX9TyM7Vi7B6ApunXNocOryq88O",
      "include_colab_link": true
    },
    "kernelspec": {
      "name": "python3",
      "display_name": "Python 3"
    }
  },
  "cells": [
    {
      "cell_type": "markdown",
      "metadata": {
        "id": "view-in-github",
        "colab_type": "text"
      },
      "source": [
        "<a href=\"https://colab.research.google.com/github/codedestructed007/sample/blob/master/Untitled2.ipynb\" target=\"_parent\"><img src=\"https://colab.research.google.com/assets/colab-badge.svg\" alt=\"Open In Colab\"/></a>"
      ]
    },
    {
      "cell_type": "markdown",
      "metadata": {
        "id": "ANBVOBjsipXj",
        "colab_type": "text"
      },
      "source": [
        "This is my first code , let's see"
      ]
    },
    {
      "cell_type": "code",
      "metadata": {
        "id": "R4ucczy_ihBQ",
        "colab_type": "code",
        "colab": {
          "base_uri": "https://localhost:8080/",
          "height": 34
        },
        "outputId": "267a816c-002f-49b7-dcb1-39a72d3855dd"
      },
      "source": [
        "print('hello woTtrld ')"
      ],
      "execution_count": 1,
      "outputs": [
        {
          "output_type": "stream",
          "text": [
            "hello world \n"
          ],
          "name": "stdout"
        }
      ]
    },
    {
      "cell_type": "code",
      "metadata": {
        "id": "220MjMSZlOiv",
        "colab_type": "code",
        "colab": {}
      },
      "source": [
        "print('second commit')"
      ],
      "execution_count": null,
      "outputs": []
    }
  ]
}